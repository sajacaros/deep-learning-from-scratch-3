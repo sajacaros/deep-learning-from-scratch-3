{
 "cells": [
  {
   "cell_type": "code",
   "execution_count": 1,
   "outputs": [],
   "source": [
    "if '__file__' in globals():\n",
    "    import os, sys\n",
    "    sys.path.append(os.path.join(os.path.dirname(__file__), '..'))"
   ],
   "metadata": {
    "collapsed": false,
    "pycharm": {
     "name": "#%%\n"
    }
   }
  },
  {
   "cell_type": "code",
   "execution_count": 3,
   "metadata": {
    "collapsed": true
   },
   "outputs": [],
   "source": [
    "import numpy as np\n",
    "from dezero import Variable\n",
    "from dezero.utils import get_dot_graph"
   ]
  },
  {
   "cell_type": "code",
   "execution_count": 4,
   "outputs": [
    {
     "name": "stdout",
     "output_type": "stream",
     "text": [
      "digraph g {\n",
      "2459637005520 [label=\"y\", color=orange, style=filled]\n",
      "2459637004176 [label=\"Add\", color=lightblue, style=filled, shape=box]\n",
      "2459637002352 -> 2459637004176\n",
      "2459637005328 -> 2459637004176\n",
      "2459637004176 -> 2459637005520\n",
      "2459637002352 [label=\"x0\", color=orange, style=filled]\n",
      "2459637005328 [label=\"x1\", color=orange, style=filled]\n",
      "}\n"
     ]
    }
   ],
   "source": [
    "x0 = Variable(np.array(1.0))\n",
    "x1 = Variable(np.array(1.0))\n",
    "y = x0 + x1\n",
    "\n",
    "x0.name = 'x0'\n",
    "x1.name = 'x1'\n",
    "y.name = 'y'\n",
    "\n",
    "txt = get_dot_graph(y, verbose=False)\n",
    "print(txt)\n",
    "\n",
    "with open('sample.dot', 'w') as o:\n",
    "    o.write(txt)"
   ],
   "metadata": {
    "collapsed": false,
    "pycharm": {
     "name": "#%%\n"
    }
   }
  },
  {
   "cell_type": "code",
   "execution_count": 5,
   "outputs": [],
   "source": [
    "def _dot_var(v, verbose=False):\n",
    "    dot_var = '{} [label=\"{}\", color=orange, style=filled]\\n'\n",
    "\n",
    "    name = '' if v.name is None else v.name\n",
    "    if verbose and v.data is not None:\n",
    "        if v.name is not None:\n",
    "            name += ': '\n",
    "        name += str(v.shape) + ' ' + str(v.dtype)\n",
    "    return dot_var.format(id(v), name)"
   ],
   "metadata": {
    "collapsed": false,
    "pycharm": {
     "name": "#%%\n"
    }
   }
  },
  {
   "cell_type": "code",
   "execution_count": 6,
   "outputs": [
    {
     "name": "stdout",
     "output_type": "stream",
     "text": [
      "2459636892384 [label=\"x\", color=orange, style=filled]\n",
      "\n",
      "2459636892384 [label=\"x: (2, 3) float64\", color=orange, style=filled]\n",
      "\n"
     ]
    }
   ],
   "source": [
    "x = Variable(np.random.randn(2,3))\n",
    "x.name = 'x'\n",
    "print(_dot_var(x))\n",
    "print(_dot_var(x, verbose=True))"
   ],
   "metadata": {
    "collapsed": false,
    "pycharm": {
     "name": "#%%\n"
    }
   }
  },
  {
   "cell_type": "code",
   "execution_count": null,
   "outputs": [],
   "source": [],
   "metadata": {
    "collapsed": false,
    "pycharm": {
     "name": "#%%\n"
    }
   }
  },
  {
   "cell_type": "code",
   "execution_count": null,
   "outputs": [],
   "source": [],
   "metadata": {
    "collapsed": false,
    "pycharm": {
     "name": "#%%\n"
    }
   }
  },
  {
   "cell_type": "code",
   "execution_count": null,
   "outputs": [],
   "source": [],
   "metadata": {
    "collapsed": false,
    "pycharm": {
     "name": "#%%\n"
    }
   }
  },
  {
   "cell_type": "code",
   "execution_count": null,
   "outputs": [],
   "source": [],
   "metadata": {
    "collapsed": false,
    "pycharm": {
     "name": "#%%\n"
    }
   }
  }
 ],
 "metadata": {
  "kernelspec": {
   "display_name": "Python 3",
   "language": "python",
   "name": "python3"
  },
  "language_info": {
   "codemirror_mode": {
    "name": "ipython",
    "version": 2
   },
   "file_extension": ".py",
   "mimetype": "text/x-python",
   "name": "python",
   "nbconvert_exporter": "python",
   "pygments_lexer": "ipython2",
   "version": "2.7.6"
  }
 },
 "nbformat": 4,
 "nbformat_minor": 0
}