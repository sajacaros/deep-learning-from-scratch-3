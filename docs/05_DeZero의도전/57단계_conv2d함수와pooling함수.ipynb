{
 "cells": [
  {
   "cell_type": "markdown",
   "metadata": {
    "collapsed": true,
    "pycharm": {
     "name": "#%% md\n"
    }
   },
   "source": [
    "# STEP 57 conv2d 함수와 pooling 함수\n",
    "* im2col 함수를 통한 구현\n",
    "    * image to column\n",
    "    * 이미지에서 하나의 열로 변환\n",
    "## 57.1 im2col에 의한 전개\n",
    "* batch + 3차원 입력 데이터에서 커널에 적용할 입력 데이터 추출\n",
    "    * ![](../../images/그림%2057-1.png)\n",
    "    * `(C, H, W) --filter(kernel)--> (OH*OW, (C, KH, KW)) -> (OH*OW, C*KH*KW)`\n",
    "* 원소 수가 원래보다 많아지므로 메모리를 많이 소비\n",
    "* 행렬 라이브러리가 제공하는 최적화된 함소의 혜택을 누릴 수 있음\n",
    "* 입력 데이터와 커널의 행렬 곱 계산\n",
    "    * ![](../../images/그림%2057-2.png)"
   ]
  },
  {
   "cell_type": "markdown",
   "source": [
    "## 57.2 conv2d 함수 구현\n",
    "* CNN에서 사용하는 함수는 코드양이 많아 dezero/functions_conv.py에 구현함\n",
    "* im2col 함수 인수\n",
    "```\n",
    "im2col(x, kernel_size, stride=1, pad=0, to_matrix=True)\n",
    "```"
   ],
   "metadata": {
    "collapsed": false
   }
  },
  {
   "cell_type": "code",
   "execution_count": 6,
   "outputs": [
    {
     "name": "stdout",
     "output_type": "stream",
     "text": [
      "(9, 75)\n",
      "(90, 75)\n"
     ]
    }
   ],
   "source": [
    "# im2col 함수 사용예\n",
    "import numpy as np\n",
    "import dezero.functions as F\n",
    "\n",
    "x1 = np.random.rand(1,3,7,7) # 배치 크기 = 1\n",
    "col1 = F.im2col(x1, kernel_size=5, stride=1, pad=0, to_matrix=True)\n",
    "print(col1.shape) # (9,75) = (((7-5)/1 + 1) * ((7-5)/1 + 1),  3*5*5)\n",
    "\n",
    "x2 = np.random.rand(10,3,7,7) # 배치크기 = 10\n",
    "col2 = F.im2col(x2, kernel_size=(5,5), stride=(1,1), pad=(0,0), to_matrix=True)\n",
    "print(col2.shape) # (90,75)"
   ],
   "metadata": {
    "collapsed": false,
    "pycharm": {
     "name": "#%%\n"
    }
   }
  },
  {
   "cell_type": "code",
   "execution_count": null,
   "outputs": [],
   "source": [
    "# pair 함수 구현\n",
    "def pair(x):\n",
    "    if isinstance(x, int):\n",
    "        return (x, x)\n",
    "    elif isinstance(x, tuple):\n",
    "        assert len(x)==2\n",
    "        return x\n",
    "    else: raise ValueError"
   ],
   "metadata": {
    "collapsed": false,
    "pycharm": {
     "name": "#%%\n"
    }
   }
  },
  {
   "cell_type": "code",
   "execution_count": 3,
   "outputs": [],
   "source": [
    "# conv2d_simple 함수 구현\n",
    "from dezero import as_variable\n",
    "from dezero.functions import linear\n",
    "from dezero.functions_conv import im2col\n",
    "from dezero.utils import pair, get_conv_outsize\n",
    "\n",
    "def conv2d_simple(x, W, b=None, stride=1, pad=0):\n",
    "    x, W = as_variable(x), as_variable(W)\n",
    "    Weight = W\n",
    "    N, C, H, W = x.shape\n",
    "    OC, C, KH, KW = Weight.shape\n",
    "    SH, SW = pair(stride)\n",
    "    PH, PW = pair(pad)\n",
    "    OH = get_conv_outsize(H, KH, SH, PH)\n",
    "    OW = get_conv_outsize(W, KW, SW, PW)\n",
    "\n",
    "    col = im2col(x, (KH, KW), stride, pad, to_matrix=True) # (N*OH*OW, C*KH*KW)\n",
    "    Weight = Weight.reshape(OC, -1).transpose() # (OC, C*KH*KW)T\n",
    "    t = linear(col, Weight, b) # (N*OH*OW, OC)\n",
    "    y = t.reshape(N, OH, OW, OC).transpose(0, 3, 1, 2)\n",
    "    return y"
   ],
   "metadata": {
    "collapsed": false,
    "pycharm": {
     "name": "#%%\n"
    }
   }
  },
  {
   "cell_type": "code",
   "execution_count": 4,
   "outputs": [
    {
     "name": "stdout",
     "output_type": "stream",
     "text": [
      "(1, 8, 15, 15)\n",
      "(1, 5, 15, 15)\n"
     ]
    }
   ],
   "source": [
    "from dezero import Variable\n",
    "\n",
    "# conv2d_simple 사용예\n",
    "N, C, H, W = 1, 5, 15, 15\n",
    "OC, (KH, KW) = 8, (3, 3)\n",
    "\n",
    "x = Variable(np.random.randn(N, C, H, W))\n",
    "OC, (KH, KW) = 8, (3, 3)\n",
    "x = Variable(np.random.randn(N, C, H, W))\n",
    "W = np.random.randn(OC, C, KH, KW)\n",
    "y = conv2d_simple(x, W, b=None, stride=1, pad=1)\n",
    "y.backward()\n",
    "\n",
    "print(y.shape) # (1, 8, (15-3+2)/1 + 1, (15-3+2)/1 + 1)\n",
    "print(x.grad.shape) # 1, 5, 15, 15"
   ],
   "metadata": {
    "collapsed": false,
    "pycharm": {
     "name": "#%%\n"
    }
   }
  },
  {
   "cell_type": "markdown",
   "source": [
    "## 57.3 Conv2d 계층 구현"
   ],
   "metadata": {
    "collapsed": false
   }
  },
  {
   "cell_type": "code",
   "execution_count": null,
   "outputs": [],
   "source": [
    "from dezero import Layer, Parameter, cuda\n",
    "\n",
    "\n",
    "class Conv2d(Layer):\n",
    "    def __init__(self, out_channels, kernel_size, stride=1, pad=0, nobias=False, dtype=np.float32, in_channels=None):\n",
    "        super().__init__()\n",
    "        self.in_channels = in_channels\n",
    "        self.out_channels = out_channels\n",
    "        self.kernel_size = kernel_size\n",
    "        self.stride = stride\n",
    "        self.pad = pad\n",
    "        self.dtype = dtype\n",
    "\n",
    "        self.W = Parameter(None, name='W')\n",
    "        if in_channels is not None:\n",
    "            self._init_W()\n",
    "        if nobias:\n",
    "            self.b = None\n",
    "        else:\n",
    "            self.b = Parameter(np.zeros(out_channels, dtype=dtype))\n",
    "\n",
    "    def _init_W(self, xp=np):\n",
    "        C, OC = self.in_channels, self.out_channels\n",
    "        KH, KW = pair(self.kernel_size)\n",
    "        scale = np.sqrt(1/(C*KH*KW))\n",
    "        W_data = xp.random.randn(OC, C, KH, KW).astype(self.dtype) * scale\n",
    "        self.W.data = W_data\n",
    "\n",
    "    def forward(self, x):\n",
    "        if self.W.data is None:\n",
    "            self.in_channels = x.shape[1]\n",
    "            xp = cuda.get_array_model(x)\n",
    "            self._init_W(xp)\n",
    "        y = conv2d_simple(x, self.W, self.b, self.stride, self.pad)\n",
    "        return y"
   ],
   "metadata": {
    "collapsed": false,
    "pycharm": {
     "name": "#%%\n"
    }
   }
  },
  {
   "cell_type": "markdown",
   "source": [
    "## 57.4 pooling 함수 구현\n",
    "* polling 함수의 구현 흐름\n",
    "    * ![](../../images/그림%2057-5.png)\n",
    "* 전개 matrix 뽑는 과정\n",
    "    * ![](../../images/그림%2057-4.png)"
   ],
   "metadata": {
    "collapsed": false
   }
  },
  {
   "cell_type": "code",
   "execution_count": 11,
   "outputs": [],
   "source": [
    "# pooling 함수 구현\n",
    "def pooling_simple(x, kernel_size, stride=1, pad=0):\n",
    "    x = as_variable(x)\n",
    "    N,C,H,W = x.shape\n",
    "    KH, KW = pair(kernel_size)\n",
    "    PH, PW = pair(pad)\n",
    "    SH, SW = pair(stride)\n",
    "    OH = get_conv_outsize(H, KH, SH, PH) # (4, 2, 2, 0) => (4-2)/2 + 1\n",
    "    OW = get_conv_outsize(W, KW, SW, PW)\n",
    "\n",
    "    col = im2col(x, kernel_size, stride, pad, to_matrix=True) # (N*OH*OW, C*KH*KW)\n",
    "    col = col.reshape(-1, KH * KW) # (N*OH*OW*C, KH*KW)\n",
    "    y = col.max(axis=1) # (N*OH*OW*C, 1)\n",
    "    y = y.reshape(N, OH, OW, C).transpose(0,3,1,2)\n",
    "    return y\n",
    "\n"
   ],
   "metadata": {
    "collapsed": false,
    "pycharm": {
     "name": "#%%\n"
    }
   }
  },
  {
   "cell_type": "code",
   "execution_count": 14,
   "outputs": [
    {
     "name": "stdout",
     "output_type": "stream",
     "text": [
      "(10, 3, 2, 2)\n",
      "(10, 3, 4, 4)\n"
     ]
    }
   ],
   "source": [
    "from dezero import Variable\n",
    "\n",
    "# conv2d_simple 사용예\n",
    "N, C, H, W = 10, 3, 4, 4\n",
    "(KH, KW) = (2, 2)\n",
    "\n",
    "x = Variable(np.random.randn(N, C, H, W))\n",
    "y = pooling_simple(x, (KH, KW), stride=2, pad=0)\n",
    "y.backward()\n",
    "\n",
    "print(y.shape) # (10, 3, (4-2+0)/2 + 1, (4-2+0)/2 + 1)\n",
    "print(x.grad.shape) # (10, 3, 4, 4)"
   ],
   "metadata": {
    "collapsed": false,
    "pycharm": {
     "name": "#%%\n"
    }
   }
  },
  {
   "cell_type": "code",
   "execution_count": null,
   "outputs": [],
   "source": [],
   "metadata": {
    "collapsed": false,
    "pycharm": {
     "name": "#%%\n"
    }
   }
  }
 ],
 "metadata": {
  "kernelspec": {
   "display_name": "Python 3",
   "language": "python",
   "name": "python3"
  },
  "language_info": {
   "codemirror_mode": {
    "name": "ipython",
    "version": 2
   },
   "file_extension": ".py",
   "mimetype": "text/x-python",
   "name": "python",
   "nbconvert_exporter": "python",
   "pygments_lexer": "ipython2",
   "version": "2.7.6"
  }
 },
 "nbformat": 4,
 "nbformat_minor": 0
}