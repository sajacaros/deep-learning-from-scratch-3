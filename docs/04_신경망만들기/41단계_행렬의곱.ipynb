{
 "cells": [
  {
   "cell_type": "markdown",
   "metadata": {
    "collapsed": true,
    "pycharm": {
     "name": "#%% md\n"
    }
   },
   "source": [
    "# STEP 41 행렬의 곱\n",
    "## 41.1 벡터의 내적과 행렬의 곱\n",
    "* 벡터의 내적\n",
    "    * 두 벡터 사이의 대응 원소의 곱을 모두 합한 값\n",
    "    * a = (a1,...,an), b = (b1,...,bn)\n",
    "    * ![](../../images/식%2041.1.png)\n",
    "* 행렬의 곱\n",
    "    * ![](../../images/그림%2041-1.png)"
   ]
  },
  {
   "cell_type": "code",
   "execution_count": 1,
   "outputs": [
    {
     "name": "stdout",
     "output_type": "stream",
     "text": [
      "32\n",
      "[[19 22]\n",
      " [43 50]]\n"
     ]
    }
   ],
   "source": [
    "import numpy as np\n",
    "\n",
    "# 벡터의 내적\n",
    "a = np.array([1,2,3])\n",
    "b = np.array([4,5,6])\n",
    "c = np.dot(a,b)\n",
    "print(c)\n",
    "\n",
    "# 행렬의 곱\n",
    "a = np.array([[1,2], [3,4]])\n",
    "b = np.array([[5,6], [7,8]])\n",
    "c = np.dot(a, b)\n",
    "print(c)\n",
    "\n",
    "# a = np.array([1,2,3])\n",
    "# b = np.array([4])\n",
    "# c = np.dot(a,b)\n",
    "# print(c)"
   ],
   "metadata": {
    "collapsed": false,
    "pycharm": {
     "name": "#%%\n"
    }
   }
  },
  {
   "cell_type": "markdown",
   "source": [
    "* np.dot(x, y) 함수\n",
    "    * 두 인수가 모두 1차원 배열이면 벡터의 내적을 계산\n",
    "    * 인수가 2차원 배열이면 행렬의 곱을 계산"
   ],
   "metadata": {
    "collapsed": false,
    "pycharm": {
     "name": "#%% md\n"
    }
   }
  },
  {
   "cell_type": "markdown",
   "source": [
    "## 41.2 행렬의 형상 체크\n",
    "* 행렬과 벡터를 사용한 계산에서는 '형상'에 주의\n",
    "    * ![](../../images/그림%2041-2.png)"
   ],
   "metadata": {
    "collapsed": false
   }
  },
  {
   "cell_type": "markdown",
   "source": [
    "## 41.3 행렬 곱의 역전파\n",
    "* DeZero는 행렬 곱 계산을 MatMul 클래스와 matmul 함수로 구현\n",
    "* ex> y = xW 행렬 곱의 역전파\n",
    "    * 최종적으로 스칼라를 출력(L)한다고 가정\n",
    "    * 계산그래프\n",
    "        * ![](../../images/그림%2041-3.png)\n",
    "    * x의 i번째 원소에 대한 미분\n",
    "        * ![](../../images/식%2041.2.png)\n",
    "    * ${\\delta}L \\over {\\delta}x_i$ 은 $x_i$를 변화시켰을 때 L이 얼마나 변화하느냐를 뜻함\n",
    "        * $x_i$의 변화로 y의 모든 원소가 변화하면 최종적으로 L이 변화\n",
    "        * ${\\delta}L \\over {\\delta}x_i$은 변화의 총합을 뜻함\n",
    "        * ${\\delta}y_j \\over {\\delta}x_i$ = $W_ij$\n",
    "            * $y_j=x_1W_1j + x_2W_2j + ... + x_iW_ij + ... + x_HW_Hj$\n",
    "        * ![](../../images/식%2041.3.png)\n",
    "        * ${\\delta}L \\over {\\delta}x_i$은 벡터 ${\\delta}L \\over {\\delta}x$과 W의 i행 벡터의 내적으로 구해짐\n",
    "        * ![](../../images/그림%2041-4.png)\n",
    "* 행렬의 형상 체크\n",
    "    * ex> y = xW\n",
    "        * ![](../../images/그림%2041-5.png)\n",
    "        * 형상 체크\n",
    "            * ![](../../images/그림%2041-6.png)\n",
    "* MatMul 클래스와 matmul 함수 구현\n",
    "``` python\n",
    "class MatMul(Function):\n",
    "    def forward(self, x, W):\n",
    "        y = x.dot(W) # np.dot(x, W) 대신 x.dot(W)로 구현\n",
    "        return y\n",
    "    def backward(self, gy):\n",
    "        x, W = self.inputs\n",
    "        gx = matmul(gy, W.T)\n",
    "        gW = matmul(x.T, gy)\n",
    "        return gx, gW\n",
    "def matmul(x, W):\n",
    "    return MatMul()(x, W)\n",
    "```"
   ],
   "metadata": {
    "collapsed": false
   }
  },
  {
   "cell_type": "code",
   "execution_count": 2,
   "outputs": [
    {
     "name": "stdout",
     "output_type": "stream",
     "text": [
      "(2, 3)\n",
      "(3, 4)\n"
     ]
    }
   ],
   "source": [
    "from dezero import Variable\n",
    "import dezero.functions as F\n",
    "\n",
    "x = Variable(np.random.randn(2,3))\n",
    "W = Variable(np.random.randn(3,4))\n",
    "y = F.matmul(x, W)\n",
    "y.backward()\n",
    "print(x.grad.shape)\n",
    "print(W.grad.shape)"
   ],
   "metadata": {
    "collapsed": false,
    "pycharm": {
     "name": "#%%\n"
    }
   }
  }
 ],
 "metadata": {
  "kernelspec": {
   "display_name": "Python 3",
   "language": "python",
   "name": "python3"
  },
  "language_info": {
   "codemirror_mode": {
    "name": "ipython",
    "version": 2
   },
   "file_extension": ".py",
   "mimetype": "text/x-python",
   "name": "python",
   "nbconvert_exporter": "python",
   "pygments_lexer": "ipython2",
   "version": "2.7.6"
  }
 },
 "nbformat": 4,
 "nbformat_minor": 0
}